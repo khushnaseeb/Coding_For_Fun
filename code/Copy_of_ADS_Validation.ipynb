{
  "nbformat": 4,
  "nbformat_minor": 0,
  "metadata": {
    "colab": {
      "name": "Copy of ADS_Validation.ipynb",
      "version": "0.3.2",
      "provenance": [],
      "include_colab_link": true
    },
    "kernelspec": {
      "name": "python3",
      "display_name": "Python 3"
    }
  },
  "cells": [
    {
      "cell_type": "markdown",
      "metadata": {
        "id": "view-in-github",
        "colab_type": "text"
      },
      "source": [
        "<a href=\"https://colab.research.google.com/github/khushnaseeb/Coding_For_Fun/blob/master/code/Copy_of_ADS_Validation.ipynb\" target=\"_parent\"><img src=\"https://colab.research.google.com/assets/colab-badge.svg\" alt=\"Open In Colab\"/></a>"
      ]
    },
    {
      "cell_type": "code",
      "metadata": {
        "id": "ArSMKTgDNXza",
        "colab_type": "code",
        "colab": {}
      },
      "source": [
        "# testing the ADS kERNEL"
      ],
      "execution_count": 0,
      "outputs": []
    },
    {
      "cell_type": "code",
      "metadata": {
        "id": "gzTvKeAcN3fF",
        "colab_type": "code",
        "colab": {}
      },
      "source": [
        "# testing"
      ],
      "execution_count": 0,
      "outputs": []
    }
  ]
}